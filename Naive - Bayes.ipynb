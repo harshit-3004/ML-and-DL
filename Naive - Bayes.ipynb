{
 "cells": [
  {
   "cell_type": "code",
   "execution_count": 7,
   "id": "87100ac1",
   "metadata": {},
   "outputs": [],
   "source": [
    "from sklearn.naive_bayes import GaussianNB\n",
    "model = GaussianNB()         #normal distribution"
   ]
  },
  {
   "cell_type": "code",
   "execution_count": 5,
   "id": "9064290d",
   "metadata": {},
   "outputs": [],
   "source": [
    "from sklearn.naive_bayes import MultinomialNB\n",
    "model = MultinomialNB()      #used when we have discrete data \n",
    "                             #eg- movie rating ranging from 1 to 5"
   ]
  },
  {
   "cell_type": "code",
   "execution_count": 6,
   "id": "06d905ef",
   "metadata": {},
   "outputs": [],
   "source": [
    "from sklearn.naive_bayes import BernoulliNB\n",
    "model = BernoulliNB()        #it assumes that all our \n",
    "                             #features are binary such that they take only two values"
   ]
  },
  {
   "cell_type": "code",
   "execution_count": null,
   "id": "f9766a0f",
   "metadata": {},
   "outputs": [],
   "source": []
  }
 ],
 "metadata": {
  "kernelspec": {
   "display_name": "Python 3",
   "language": "python",
   "name": "python3"
  },
  "language_info": {
   "codemirror_mode": {
    "name": "ipython",
    "version": 3
   },
   "file_extension": ".py",
   "mimetype": "text/x-python",
   "name": "python",
   "nbconvert_exporter": "python",
   "pygments_lexer": "ipython3",
   "version": "3.8.8"
  }
 },
 "nbformat": 4,
 "nbformat_minor": 5
}
